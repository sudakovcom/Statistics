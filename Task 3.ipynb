{
 "cells": [
  {
   "cell_type": "markdown",
   "metadata": {
    "id": "eC4qTUEIs2vf",
    "pycharm": {
     "name": "#%% md\n"
    }
   },
   "source": [
    "# Домашнее задание №3."
   ]
  },
  {
   "cell_type": "code",
   "execution_count": null,
   "outputs": [],
   "source": [
    "import numpy as np\n",
    "import matplotlib.pyplot as plt\n",
    "from scipy.stats import expon\n",
    "from scipy.stats import uniform\n",
    "from scipy.stats import chi2\n",
    "from scipy.stats import gamma\n",
    "from scipy.stats import beta\n",
    "import seaborn as sns\n",
    "%config InlineBackend.figure_format = 'retina'"
   ],
   "metadata": {
    "collapsed": false,
    "pycharm": {
     "name": "#%%\n"
    }
   }
  },
  {
   "cell_type": "markdown",
   "source": [
    "## ***Задача 1: распределение верхних экстремумов для показательной модели (2 балла)***"
   ],
   "metadata": {
    "collapsed": false,
    "pycharm": {
     "name": "#%% md\n"
    }
   }
  },
  {
   "cell_type": "markdown",
   "source": [
    "### **1.** Зафиксируйте $n$."
   ],
   "metadata": {
    "collapsed": false,
    "pycharm": {
     "name": "#%% md\n"
    }
   }
  },
  {
   "cell_type": "code",
   "execution_count": null,
   "outputs": [],
   "source": [
    "n = 100"
   ],
   "metadata": {
    "collapsed": false,
    "pycharm": {
     "name": "#%%\n"
    }
   }
  },
  {
   "cell_type": "markdown",
   "source": [
    "### **2.** Сгенерируйте $K = n^2$ выборок $(X_1^k, X_2^k, ... , X_n^k)$ объема $n$ из экспоненциального распределения $\\operatorname{Exp}(1)$. В каждой из $K$ выборок определить максимум $X_{(n)}^k$, $1 \\le k \\le n$."
   ],
   "metadata": {
    "collapsed": false,
    "pycharm": {
     "name": "#%% md\n"
    }
   }
  },
  {
   "cell_type": "code",
   "execution_count": null,
   "outputs": [],
   "source": [
    "K = n ** 2\n",
    "lambda_ = 1\n",
    "samples = []\n",
    "sorted_samples = []\n",
    "n_order_statistics = []\n",
    "for i in range(K):\n",
    "    samples.append(expon.rvs(scale=1 / lambda_, size=n))\n",
    "\n",
    "for i in range(K):\n",
    "    sorted_samples.append(sorted(samples[i]))\n",
    "    n_order_statistics.append(sorted_samples[i][-1])"
   ],
   "metadata": {
    "collapsed": false,
    "pycharm": {
     "name": "#%%\n"
    }
   }
  },
  {
   "cell_type": "markdown",
   "source": [
    "### **3.** Вычислите функцию \\begin{equation}\n",
    "    \\hat G_K(x) = \\cfrac{1}{K} \\sum\\limits_{k=1}^{K}\\mathbb{1}\\left(X_{(n)}^k - \\ln n \\le x \\right), \\;\\;\\; x \\ge 0.\n",
    "\\end{equation} и постройте графики зависимостей $\\hat G_K(x)$ и $G(x) = e^{-e^{-x}}$ от $x$."
   ],
   "metadata": {
    "collapsed": false,
    "pycharm": {
     "name": "#%% md\n"
    }
   }
  },
  {
   "cell_type": "code",
   "execution_count": null,
   "outputs": [],
   "source": [
    "G_K_x = []\n",
    "G_x = []\n",
    "x = sorted(n_order_statistics)\n",
    "b = np.log(n)\n",
    "\n",
    "for i in range(len(x)):\n",
    "    x[i] -= b\n",
    "\n",
    "for i in range(len(x)):\n",
    "    G_K_x.append(i / K)\n",
    "    G_x.append(np.exp(-np.exp(-x[i])))\n",
    "\n",
    "fig_1, ax_1 = plt.subplots(figsize=(9, 6))\n",
    "plt.plot(x, G_K_x, color='green')\n",
    "plt.title(\"график $\\hat G_K(x)$\")\n",
    "plt.xlabel('x', fontsize=15)\n",
    "plt.ylabel('$\\hat G_K(x)$', fontsize=15)\n",
    "plt.grid()\n",
    "\n",
    "fig_2, ax_2 = plt.subplots(figsize=(9, 6))\n",
    "plt.plot(x, G_x, color='red')\n",
    "plt.title(\"график $\\hat G(x)$\")\n",
    "plt.xlabel('x', fontsize=15)\n",
    "plt.ylabel('$\\hat G(x)$', fontsize=15)\n",
    "plt.grid()\n",
    "\n",
    "fig_3, ax_3 = plt.subplots(figsize=(9, 6))\n",
    "plt.plot(x, G_x, color='red')\n",
    "plt.plot(x, G_K_x, color='green')\n",
    "plt.title(\"график $\\hat G(x)$ и $\\hat G(x)$\")\n",
    "plt.xlabel('x', fontsize=15)\n",
    "plt.ylabel('$\\hat G(x)$', fontsize=15)\n",
    "plt.legend(labels=['$\\hat G(x)$', '$\\hat G_K(x)$'])\n",
    "plt.grid()\n",
    "\n",
    "plt.show()"
   ],
   "metadata": {
    "collapsed": false,
    "pycharm": {
     "name": "#%%\n"
    }
   }
  },
  {
   "cell_type": "markdown",
   "source": [
    "### **4.** Убедитесь, что $\\hat G_K$ близка к $G(x) = e^{-e^{-x}}$. Для этого вычислите \\begin{equation}\n",
    "    T_K = \\operatorname{sup}\\limits_{x \\ge 0} \\left| \\hat G_K(x) - G(x) \\right|.\n",
    "\\end{equation} Обратите внимание, что $\\hat G_K$ -- кусочно постоянная функция, а G - монотонная. Поэтому значение статистики $T_K$ можно найти точно."
   ],
   "metadata": {
    "collapsed": false,
    "pycharm": {
     "name": "#%% md\n"
    }
   }
  },
  {
   "cell_type": "code",
   "execution_count": null,
   "outputs": [],
   "source": [
    "T_k = 0\n",
    "for i in range(len(x) - 1):\n",
    "    T_k = max(T_k, abs(G_x[i] - G_K_x[i]), abs(G_x[i] - G_K_x[i + 1]))\n",
    "T_k = max(T_k, abs(G_x[len(x) - 1] - G_K_x[len(x) - 1]))\n",
    "print('T_K =', T_k)"
   ],
   "metadata": {
    "collapsed": false,
    "pycharm": {
     "name": "#%%\n"
    }
   }
  },
  {
   "cell_type": "markdown",
   "source": [
    "### **5.** Повторите задания пп. 1, 2 и 4 при различных $n$. Постройте график зависимости $T_K$ от $n$. Необходимо взять не менее $10$ различных значений $n$. Графики функций $\\hat G_K$ и $G$ (см. п.3) можно построить при одном фиксированном значении $n$ на Ваш выбор."
   ],
   "metadata": {
    "collapsed": false,
    "pycharm": {
     "name": "#%% md\n"
    }
   }
  },
  {
   "cell_type": "code",
   "execution_count": null,
   "outputs": [],
   "source": [
    "def T_k_n(n):\n",
    "    K = n ** 2\n",
    "    lambda_ = 1\n",
    "    samples = []\n",
    "    sorted_samples = []\n",
    "    n_order_statistics = []\n",
    "    for i in range(K):\n",
    "        samples.append(expon.rvs(scale=1 / lambda_, size=n))\n",
    "\n",
    "    for i in range(K):\n",
    "        sorted_samples.append(sorted(samples[i]))\n",
    "        n_order_statistics.append(sorted_samples[i][-1])\n",
    "\n",
    "    G_K_x = []\n",
    "    G_x = []\n",
    "    x = sorted(n_order_statistics)\n",
    "    b = np.log(n)\n",
    "\n",
    "    for i in range(len(x)):\n",
    "        x[i] -= b\n",
    "\n",
    "    for i in range(len(x)):\n",
    "        G_K_x.append(i / K)\n",
    "        G_x.append(np.exp(-np.exp(-x[i])))\n",
    "\n",
    "    T_k = 0\n",
    "    for i in range(len(x) - 1):\n",
    "        T_k = max(T_k, abs(G_x[i] - G_K_x[i]), abs(G_x[i] - G_K_x[i + 1]))\n",
    "    T_k = max(T_k, abs(G_x[len(x) - 1] - G_K_x[len(x) - 1]))\n",
    "\n",
    "    return T_k"
   ],
   "metadata": {
    "collapsed": false,
    "pycharm": {
     "name": "#%%\n"
    }
   }
  },
  {
   "cell_type": "code",
   "execution_count": null,
   "outputs": [],
   "source": [
    "N = np.arange(10, 150, 5)\n",
    "T_K = []\n",
    "num_of_mesures = 10\n",
    "for n in N:\n",
    "    T = 0\n",
    "    for i in range(num_of_mesures):\n",
    "        T += T_k_n(n)\n",
    "    T_K.append(T / num_of_mesures)"
   ],
   "metadata": {
    "collapsed": false,
    "pycharm": {
     "name": "#%%\n"
    }
   }
  },
  {
   "cell_type": "code",
   "execution_count": null,
   "outputs": [],
   "source": [
    "plt.figure(figsize=(9, 6))\n",
    "plt.plot(N, T_K)\n",
    "plt.plot(N, T_K, '.', color=\"red\")\n",
    "plt.title('график зависимости $T_K$ от $n$')\n",
    "plt.xlabel('n', fontsize=15)\n",
    "plt.ylabel('$T_K$', fontsize=15)\n",
    "plt.grid()\n",
    "plt.show()"
   ],
   "metadata": {
    "collapsed": false,
    "pycharm": {
     "name": "#%%\n"
    }
   }
  },
  {
   "cell_type": "markdown",
   "source": [
    "## ***Задача 2: квадратичные формы гауссовских случайных векторов с идемподентными матрицами (4 балла)***"
   ],
   "metadata": {
    "collapsed": false,
    "pycharm": {
     "name": "#%% md\n"
    }
   }
  },
  {
   "cell_type": "markdown",
   "source": [
    "### **1.** Зафиксируйте $n \\in \\mathbb{N}$ и натуральное $r$ от $2$ до $(n - 1)$."
   ],
   "metadata": {
    "collapsed": false,
    "pycharm": {
     "name": "#%% md\n"
    }
   }
  },
  {
   "cell_type": "code",
   "execution_count": null,
   "outputs": [],
   "source": [
    "n = 100\n",
    "r = 80"
   ],
   "metadata": {
    "collapsed": false,
    "pycharm": {
     "name": "#%%\n"
    }
   }
  },
  {
   "cell_type": "markdown",
   "source": [
    "### **2.** Выберите симметричную идемпотентную матрицу $A$ ранга $r$ (то есть симметричную матрицу ранга $r$, удовлетворяющую равенству $A^2 = A$). Матрица не должна быть диагональной. В замечании 2 описан один из способов получения такой матрицы, но Вы можете воспользоваться и другими на Ваше усмотрение."
   ],
   "metadata": {
    "collapsed": false,
    "pycharm": {
     "name": "#%% md\n"
    }
   }
  },
  {
   "cell_type": "code",
   "execution_count": null,
   "outputs": [],
   "source": [
    "columns = []\n",
    "\n",
    "for i in range(r):\n",
    "    vec = []\n",
    "    for j in range(n):\n",
    "        vec.append(uniform.rvs(loc=-1000, scale=2000))\n",
    "    vec_copy = vec.copy()\n",
    "    for j in range(len(columns)):\n",
    "        vec -= np.dot(vec_copy, columns[j]) * columns[j]\n",
    "    columns.append(vec / np.linalg.norm(vec))\n",
    "\n",
    "columns[0] = np.array(columns[0])\n",
    "\n",
    "Q = np.matrix(columns)\n",
    "Q = Q.T\n",
    "A = Q @ Q.T"
   ],
   "metadata": {
    "collapsed": false,
    "pycharm": {
     "name": "#%%\n"
    }
   }
  },
  {
   "cell_type": "markdown",
   "source": [
    "### **3.** Сгенерируйте $K = n^2$ случайных векторов $X_1, X_2, ... , X_K \\in \\mathbb{R}^n$ из нормального распределения $\\mathcal{N}(0, I_n)$. "
   ],
   "metadata": {
    "collapsed": false,
    "pycharm": {
     "name": "#%% md\n"
    }
   }
  },
  {
   "cell_type": "code",
   "execution_count": null,
   "outputs": [],
   "source": [
    "K = n ** 2\n",
    "mu, sigma = 0, 1\n",
    "samples = []\n",
    "for i in range(K):\n",
    "    sample = np.random.normal(mu, sigma, n)\n",
    "    samples.append(sample)"
   ],
   "metadata": {
    "collapsed": false,
    "pycharm": {
     "name": "#%%\n"
    }
   }
  },
  {
   "cell_type": "markdown",
   "source": [
    "### **4.** По набору наблюдений $X_1^\\top AX_1, ..., X_K^\\top AX_K$ постройте гистограмму. На тот же рисунок добавьте график плотности распределения $\\chi^2(r)$."
   ],
   "metadata": {
    "collapsed": false,
    "pycharm": {
     "name": "#%% md\n"
    }
   }
  },
  {
   "cell_type": "code",
   "execution_count": null,
   "outputs": [],
   "source": [
    "values = []\n",
    "for i in range(K):\n",
    "    values.append((samples[i].T @ A @ samples[i]).item())\n",
    "\n",
    "fig, ax = plt.subplots(figsize=(15, 10))\n",
    "X = np.arange(0, 150, 0.1)\n",
    "plt.plot(X, chi2.pdf(X, r))\n",
    "plt.hist(values, bins=100, density=True)\n",
    "\n",
    "plt.title('Histogram')\n",
    "plt.xlabel('$x$', fontsize=15)\n",
    "plt.ylabel('$p_{\\chi^2(r)}$', fontsize=15)\n",
    "plt.legend(labels=['плотность $\\chi^2(r)$', 'гистограмма наблюдений'])\n",
    "plt.grid()\n",
    "plt.show()"
   ],
   "metadata": {
    "collapsed": false,
    "pycharm": {
     "name": "#%%\n"
    }
   }
  },
  {
   "cell_type": "markdown",
   "source": [
    "### **5.** убедитесь, что эмперическая функция распределения \\begin{equation}\n",
    "    \\hat F_K(t) = \\cfrac{1}{K}\\sum\\limits_{k=1}^{K} \\mathbb{1}\\left( X_k^\\top AX_k \\le t \\right), \\;\\;\\; t \\ge 0, \\end{equation} \n",
    "### близка к функции распределения $\\chi^2(r)$. Для этого вычислите \\begin{equation} T_K = \\operatorname{sup}\\limits_{t \\ge 0}\\left| \\hat F_K(t) - G_r(t)\\right|, \\end{equation} где $G_r(t)$ - функция распределения $\\chi^2(r)$ (доступна в библиотеке scipy). Обратите внимание, что $\\hat F_K$ -- кусочно постоянная функция, а $G_r$ - монотонная. Поэтому значение статистики $T_K$ можно найти точно."
   ],
   "metadata": {
    "collapsed": false,
    "pycharm": {
     "name": "#%% md\n"
    }
   }
  },
  {
   "cell_type": "code",
   "execution_count": null,
   "outputs": [],
   "source": [
    "F_x = []\n",
    "x = sorted(values)\n",
    "\n",
    "for i in range(len(x)):\n",
    "    F_x.append(i / K)\n",
    "\n",
    "T_k = 0\n",
    "for i in range(len(x) - 1):\n",
    "    T_k = max(T_k, abs(F_x[i] - chi2.cdf(x[i], r)), abs(F_x[i + 1] - chi2.cdf(x[i], r)))\n",
    "T_k = max(T_k, abs(F_x[len(x) - 1] - chi2.cdf(x[len(x) - 1], r)))\n",
    "\n",
    "print(\"T_K = \", T_k)"
   ],
   "metadata": {
    "collapsed": false,
    "pycharm": {
     "name": "#%%\n"
    }
   }
  },
  {
   "cell_type": "markdown",
   "source": [
    "### **6.** Повторите задания пп. 1, 2, 3, 5 при различных значениях $r$ и $n$. При каждом $r$ постройте график зависимости $T_K$ от $n$. Убедитесь, что значение $T_K$ стремится к нулю с ростом $n$. Необходимо выбрать не менее трёх различных значений $r$ и не менее $10$ различных значений $n$. Гистограмму (см. п. 4) можно построить при одном фиксированном значении $n$ на Ваш выбор."
   ],
   "metadata": {
    "collapsed": false,
    "pycharm": {
     "name": "#%% md\n"
    }
   }
  },
  {
   "cell_type": "code",
   "execution_count": null,
   "outputs": [],
   "source": [
    "def T_k(n, r):\n",
    "    columns = []\n",
    "\n",
    "    for i in range(r):\n",
    "        vec = []\n",
    "        for j in range(n):\n",
    "            vec.append(uniform.rvs(loc=-1000, scale=2000))\n",
    "        vec_copy = vec.copy()\n",
    "        for j in range(len(columns)):\n",
    "            vec -= np.dot(vec_copy, columns[j]) * columns[j]\n",
    "        columns.append(vec / np.linalg.norm(vec))\n",
    "\n",
    "    columns[0] = np.array(columns[0])\n",
    "\n",
    "    Q = np.matrix(columns)\n",
    "    Q = Q.T\n",
    "    A = Q @ Q.T\n",
    "\n",
    "    K = n ** 2\n",
    "    mu, sigma = 0, 1\n",
    "    samples = []\n",
    "    for i in range(K):\n",
    "        sample = np.random.normal(mu, sigma, n)\n",
    "        samples.append(sample)\n",
    "\n",
    "    values = []\n",
    "    for i in range(K):\n",
    "        values.append((samples[i].T @ A @ samples[i]).item())\n",
    "\n",
    "    F_x = []\n",
    "    x = sorted(values)\n",
    "\n",
    "    for i in range(len(x)):\n",
    "        F_x.append(i / K)\n",
    "\n",
    "    T_k = 0\n",
    "    for i in range(len(x) - 1):\n",
    "        T_k = max(T_k, abs(F_x[i] - chi2.cdf(x[i], r)), abs(F_x[i + 1] - chi2.cdf(x[i], r)))\n",
    "    T_k = max(T_k, abs(F_x[len(x) - 1] - chi2.cdf(x[len(x) - 1], r)))\n",
    "\n",
    "    return T_k"
   ],
   "metadata": {
    "collapsed": false,
    "pycharm": {
     "name": "#%%\n"
    }
   }
  },
  {
   "cell_type": "code",
   "execution_count": null,
   "outputs": [],
   "source": [
    "def T_K_list(r, N):\n",
    "    T_K = []\n",
    "    num_of_mesures = 10\n",
    "    for n in N:\n",
    "        T = 0\n",
    "        for i in range(num_of_mesures):\n",
    "            T += T_k(n, r)\n",
    "        T_K.append(T / num_of_mesures)\n",
    "    return T_K\n"
   ],
   "metadata": {
    "collapsed": false,
    "pycharm": {
     "name": "#%%\n"
    }
   }
  },
  {
   "cell_type": "code",
   "execution_count": null,
   "outputs": [],
   "source": [
    "fig, axes = plt.subplots(2, 2, figsize=(20, 15))\n",
    "\n",
    "N = np.arange(10, 100, 5)\n",
    "list = T_K_list(10, N)\n",
    "axes[0, 0].plot(N, list)\n",
    "axes[0, 0].plot(N, list, '.', color=\"red\")\n",
    "axes[0, 0].set_title(\"r = 10\")\n",
    "axes[0, 0].set_xlabel(\"n\")\n",
    "axes[0, 0].set_ylabel('$T_K$')\n",
    "axes[0, 0].grid()\n",
    "\n",
    "N = np.arange(30, 100, 5)\n",
    "list = T_K_list(30, N)\n",
    "axes[0, 1].plot(N, list)\n",
    "axes[0, 1].plot(N, list, '.', color=\"red\")\n",
    "axes[0, 1].set_title(\"r = 30\")\n",
    "axes[0, 1].set_xlabel(\"n\")\n",
    "axes[0, 1].set_ylabel('$T_K$')\n",
    "axes[0, 1].grid()\n",
    "\n",
    "\n",
    "N = np.arange(50, 100, 5)\n",
    "list = T_K_list(50, N)\n",
    "axes[1, 0].plot(N, list)\n",
    "axes[1, 0].plot(N, list, '.', color=\"red\")\n",
    "axes[1, 0].set_title(\"r = 50\")\n",
    "axes[1, 0].set_xlabel(\"n\")\n",
    "axes[1, 0].set_ylabel('$T_K$')\n",
    "axes[1, 0].grid()\n",
    "\n",
    "\n",
    "N = np.arange(70, 120, 5)\n",
    "list = T_K_list(70, N)\n",
    "axes[1, 1].plot(N, list)\n",
    "axes[1, 1].plot(N, list, '.', color=\"red\")\n",
    "axes[1, 1].set_title(\"r = 70\")\n",
    "axes[1, 1].set_xlabel(\"n\")\n",
    "axes[1, 1].set_ylabel('$T_K$')\n",
    "axes[1, 1].grid()"
   ],
   "metadata": {
    "collapsed": false,
    "pycharm": {
     "name": "#%%\n"
    }
   }
  },
  {
   "cell_type": "markdown",
   "source": [
    "## Задача 3: распределение порядковых статистик (4 балла).\n"
   ],
   "metadata": {
    "collapsed": false,
    "pycharm": {
     "name": "#%% md\n"
    }
   }
  },
  {
   "cell_type": "markdown",
   "source": [
    "### **1.** Зафиксируйте $n \\in \\mathbb{N}$ и натуральное $r$ от $1$ до $n$."
   ],
   "metadata": {
    "collapsed": false,
    "pycharm": {
     "name": "#%% md\n"
    }
   }
  },
  {
   "cell_type": "code",
   "execution_count": null,
   "outputs": [],
   "source": [
    "n = 100"
   ],
   "metadata": {
    "collapsed": false,
    "pycharm": {
     "name": "#%%\n"
    }
   }
  },
  {
   "cell_type": "markdown",
   "source": [
    "### **2.** Сгенерируйте $K = n^2$ выборок $\\left( X_1^k, ... , X_n^k \\right)$, $1 \\le k \\le K$, объёма $n$ из равномерного распределения на отрезке $\\left[ 0, 1 \\right]$. В каждой из $K$ выборок определить $r$-ую порядковую статистику $X_{(r)}^k$."
   ],
   "metadata": {
    "collapsed": false,
    "pycharm": {
     "name": "#%% md\n"
    }
   }
  },
  {
   "cell_type": "code",
   "execution_count": null,
   "outputs": [],
   "source": [
    "r = 70\n",
    "\n",
    "K = n ** 2\n",
    "left, right = 0, 1\n",
    "samples = []\n",
    "for i in range(K):\n",
    "    sample = np.random.uniform(left, right, n)\n",
    "    samples.append(sample)\n",
    "\n",
    "for i in range(K):\n",
    "    samples[i] = sorted(samples[i])\n",
    "\n",
    "r_order_statistics = []\n",
    "for i in range(K):\n",
    "    r_order_statistics.append(samples[i][r - 1])\n"
   ],
   "metadata": {
    "collapsed": false,
    "pycharm": {
     "name": "#%%\n"
    }
   }
  },
  {
   "cell_type": "markdown",
   "source": [
    "### **3.**  По набору наблюдений $X_{(r)}^1, ... , X_{(r)}^K$ постройте гистограмму. На тот же рисунок добавьте график плотности распределения $\\operatorname{Beta}(r, n + 1 - r)$."
   ],
   "metadata": {
    "collapsed": false,
    "pycharm": {
     "name": "#%% md\n"
    }
   }
  },
  {
   "cell_type": "code",
   "execution_count": null,
   "outputs": [],
   "source": [
    "fig, ax = plt.subplots(figsize=(9, 6))\n",
    "X = np.arange(0.4, 1.0, 0.01)\n",
    "plt.plot(X, beta.pdf(X, r, n + 1 - r))\n",
    "\n",
    "plt.title('гистограмма', fontsize=15)\n",
    "plt.xlabel('x')\n",
    "plt.xlabel('$p(x)$')\n",
    "plt.hist(r_order_statistics, bins=100, density=True)\n",
    "plt.grid()\n",
    "\n",
    "plt.show()"
   ],
   "metadata": {
    "collapsed": false,
    "pycharm": {
     "name": "#%%\n"
    }
   }
  },
  {
   "cell_type": "markdown",
   "source": [
    "### **4.** Убедитесь, что эмпирическая функция распределения \\begin{equation} \\hat F_K(t) = \\cfrac{1}{K} \\sum\\limits_{k = 1}^{K}\\mathbb{1}\\left( X_{(r)}^k \\le t \\right), \\;\\;\\; t \\in [0, 1] \\end{equation} близка к функции распределения $\\operatorname{Beta}(r, n + 1 − r)$. Для этого вычислите \\begin{equation} T_K = \\operatorname{sup}_{t \\ge 0} \\left| \\hat F_K(t) - G_{r, n+1-r}(t) \\right|, \\end{equation} где $G_{r, n + 1 - r}$  - функция распределения $\\operatorname{Beta}(r, n + 1 - r)$ (доступна в библиотеке scipy). Обратите внимание, что $\\hat F_K$ - кусочно постоянная функция, а $G_{r, n+1-r}$ - монотонная. Поэтому значение статистики $T_K$ можно найти точно."
   ],
   "metadata": {
    "collapsed": false,
    "pycharm": {
     "name": "#%% md\n"
    }
   }
  },
  {
   "cell_type": "code",
   "execution_count": null,
   "outputs": [],
   "source": [
    "F_x = []\n",
    "x = sorted(r_order_statistics)\n",
    "\n",
    "for i in range(len(x)):\n",
    "    F_x.append(i / K)\n",
    "\n",
    "T_k = 0\n",
    "for i in range(len(x) - 1):\n",
    "    T_k = max(T_k, abs(F_x[i] - beta.cdf(x[i], r, n + 1 - r)), abs(F_x[i + 1] - beta.cdf(x[i], r, n + 1 - r)))\n",
    "T_k = max(T_k, abs(F_x[len(x) - 1] - beta.cdf(x[len(x) - 1], r, n + 1 - r)))\n",
    "\n",
    "print(\"T_k = \", T_k)"
   ],
   "metadata": {
    "collapsed": false,
    "pycharm": {
     "name": "#%%\n"
    }
   }
  },
  {
   "cell_type": "markdown",
   "source": [
    "### **5.** Повторите задания пп. 1, 2, 4 при различных значениях $r$ и $n$. При каждом $r$ постройте график зависимости $T_K$ от $n$. Убедитесь, что значение $T_K$ стремится к нулю с ростом $r$. Необходимо выбрать не менее трех различных значений $r$ и не менее $10$ различных значений $n$. Гистограмму (см. п. 3) можно построить при одном фиксированном значении $n$ на Ваш выбор."
   ],
   "metadata": {
    "collapsed": false,
    "pycharm": {
     "name": "#%% md\n"
    }
   }
  },
  {
   "cell_type": "code",
   "execution_count": null,
   "outputs": [],
   "source": [
    "def T_K(r, n):\n",
    "    K = n ** 2\n",
    "    left, right = 0, 1\n",
    "    samples = []\n",
    "    for i in range(K):\n",
    "        sample = np.random.uniform(left, right, n)\n",
    "        samples.append(sample)\n",
    "\n",
    "    for i in range(K):\n",
    "        samples[i] = sorted(samples[i])\n",
    "\n",
    "    r_order_statistics = []\n",
    "    for i in range(K):\n",
    "        r_order_statistics.append(samples[i][r - 1])\n",
    "\n",
    "    F_x = []\n",
    "    x = sorted(r_order_statistics)\n",
    "\n",
    "    for i in range(len(x)):\n",
    "        F_x.append(i / K)\n",
    "\n",
    "    T_k = 0\n",
    "    for i in range(len(x) - 1):\n",
    "        T_k = max(T_k, abs(F_x[i] - beta.cdf(x[i], r, n + 1 - r)), abs(F_x[i + 1] - beta.cdf(x[i], r, n + 1 - r)))\n",
    "    T_k = max(T_k, abs(F_x[len(x) - 1] - beta.cdf(x[len(x) - 1], r, n + 1 - r)))\n",
    "\n",
    "    return T_k"
   ],
   "metadata": {
    "collapsed": false,
    "pycharm": {
     "name": "#%%\n"
    }
   }
  },
  {
   "cell_type": "code",
   "execution_count": null,
   "outputs": [],
   "source": [
    "def T_K_list(r, N):\n",
    "    T_k = []\n",
    "    num_of_mesures = 10\n",
    "    for n in N:\n",
    "        T = 0\n",
    "        for i in range(num_of_mesures):\n",
    "            T += T_K(r, n)\n",
    "        T_k.append(T / num_of_mesures)\n",
    "    return T_k\n"
   ],
   "metadata": {
    "collapsed": false,
    "pycharm": {
     "name": "#%%\n"
    }
   }
  },
  {
   "cell_type": "code",
   "execution_count": null,
   "outputs": [],
   "source": [
    "fig, axes = plt.subplots(2, 2, figsize=(20, 15))\n",
    "\n",
    "N = np.arange(10, 100, 5)\n",
    "list = T_K_list(10, N)\n",
    "axes[0, 0].plot(N, list)\n",
    "axes[0, 0].plot(N, list, '.', color=\"red\")\n",
    "axes[0, 0].set_title(\"r = 10\")\n",
    "axes[0, 0].set_xlabel(\"n\")\n",
    "axes[0, 0].set_ylabel('$T_K$')\n",
    "axes[0, 0].grid()\n",
    "N = np.arange(30, 100, 5)\n",
    "list = T_K_list(30, N)\n",
    "axes[0, 1].plot(N, list)\n",
    "axes[0, 1].plot(N, list, '.', color=\"red\")\n",
    "axes[0, 1].set_title(\"r = 30\")\n",
    "axes[0, 1].set_xlabel(\"n\")\n",
    "axes[0, 1].set_ylabel('$T_K$')\n",
    "axes[0, 1].grid()\n",
    "\n",
    "\n",
    "N = np.arange(50, 100, 5)\n",
    "list = T_K_list(50, N)\n",
    "axes[1, 0].plot(N, list)\n",
    "axes[1, 0].plot(N, list, '.', color=\"red\")\n",
    "axes[1, 0].set_title(\"r = 50\")\n",
    "axes[1, 0].set_xlabel(\"n\")\n",
    "axes[1, 0].set_ylabel('$T_K$')\n",
    "axes[1, 0].grid()\n",
    "\n",
    "\n",
    "N = np.arange(70, 120, 5)\n",
    "list = T_K_list(70, N)\n",
    "axes[1, 1].plot(N, list)\n",
    "axes[1, 1].plot(N, list, '.', color=\"red\")\n",
    "axes[1, 1].set_title(\"r = 70\")\n",
    "axes[1, 1].set_xlabel(\"n\")\n",
    "axes[1, 1].set_ylabel('$T_K$')\n",
    "axes[1, 1].grid()\n"
   ],
   "metadata": {
    "collapsed": false,
    "pycharm": {
     "name": "#%%\n"
    }
   }
  }
 ],
 "metadata": {
  "colab": {
   "provenance": []
  },
  "kernelspec": {
   "display_name": "Python 3 (ipykernel)",
   "language": "python",
   "name": "python3"
  },
  "language_info": {
   "codemirror_mode": {
    "name": "ipython",
    "version": 3
   },
   "file_extension": ".py",
   "mimetype": "text/x-python",
   "name": "python",
   "nbconvert_exporter": "python",
   "pygments_lexer": "ipython3",
   "version": "3.9.16"
  },
  "vscode": {
   "interpreter": {
    "hash": "b0fa6594d8f4cbf19f97940f81e996739fb7646882a419484c72d19e05852a7e"
   }
  }
 },
 "nbformat": 4,
 "nbformat_minor": 1
}